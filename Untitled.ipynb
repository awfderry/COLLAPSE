{
 "cells": [
  {
   "cell_type": "code",
   "execution_count": 1,
   "id": "7e6f9a9f-c3b5-4e4b-8a98-df7370981e47",
   "metadata": {},
   "outputs": [
    {
     "name": "stdout",
     "output_type": "stream",
     "text": [
      "/oak/stanford/groups/rbaltman/alptartici/PL_contr_curr\n"
     ]
    }
   ],
   "source": [
    "! pwd"
   ]
  },
  {
   "cell_type": "code",
   "execution_count": 2,
   "id": "b662dcae-3d00-4b61-a0db-cf640678f360",
   "metadata": {},
   "outputs": [
    {
     "name": "stdout",
     "output_type": "stream",
     "text": [
      "  alp_distWeiPool\u001b[m\n",
      "* \u001b[32mbr_PL_contr_curr\u001b[m\n",
      "+ \u001b[36mbranch_curric_contr\u001b[m\n",
      "+ \u001b[36mcontrastive_alp\u001b[m\n",
      "+ \u001b[36mmain\u001b[m\n",
      "  mar7_v1\u001b[m\n"
     ]
    }
   ],
   "source": [
    "! git branch"
   ]
  },
  {
   "cell_type": "code",
   "execution_count": null,
   "id": "03780a98-14cb-4b2b-830a-cde49ac655be",
   "metadata": {},
   "outputs": [],
   "source": []
  }
 ],
 "metadata": {
  "kernelspec": {
   "display_name": "Python 3 (ipykernel)",
   "language": "python",
   "name": "python3"
  },
  "language_info": {
   "codemirror_mode": {
    "name": "ipython",
    "version": 3
   },
   "file_extension": ".py",
   "mimetype": "text/x-python",
   "name": "python",
   "nbconvert_exporter": "python",
   "pygments_lexer": "ipython3",
   "version": "3.9.15"
  }
 },
 "nbformat": 4,
 "nbformat_minor": 5
}

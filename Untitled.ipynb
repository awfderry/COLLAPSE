{
 "cells": [
  {
   "cell_type": "code",
   "execution_count": 2,
   "id": "5d06bf56-d471-46dc-91d7-b8e44341424f",
   "metadata": {},
   "outputs": [],
   "source": [
    "import os"
   ]
  },
  {
   "cell_type": "code",
   "execution_count": null,
   "id": "a65be45e-d58d-4a49-9420-d37b95e58c44",
   "metadata": {},
   "outputs": [],
   "source": [
    "from collapse import process_pdb, initialize_model, embed_protein"
   ]
  },
  {
   "cell_type": "code",
   "execution_count": null,
   "id": "8a3e3bad-3a08-4640-9f8a-3c0d8e3437f4",
   "metadata": {},
   "outputs": [],
   "source": []
  }
 ],
 "metadata": {
  "kernelspec": {
   "display_name": "Python 3 (ipykernel)",
   "language": "python",
   "name": "python3"
  },
  "language_info": {
   "codemirror_mode": {
    "name": "ipython",
    "version": 3
   },
   "file_extension": ".py",
   "mimetype": "text/x-python",
   "name": "python",
   "nbconvert_exporter": "python",
   "pygments_lexer": "ipython3",
   "version": "3.9.15"
  }
 },
 "nbformat": 4,
 "nbformat_minor": 5
}
